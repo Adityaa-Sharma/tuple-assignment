{
 "cells": [
  {
   "cell_type": "markdown",
   "id": "37669917",
   "metadata": {},
   "source": [
    "# ques-1 "
   ]
  },
  {
   "cell_type": "code",
   "execution_count": null,
   "id": "40e33391",
   "metadata": {},
   "outputs": [],
   "source": [
    "\n",
    "#tuples are basically the ordered collection of elements(strings, integers etc).they are immutable i.e cannot be change or modify\n",
    "t=(1,2,3)\n",
    "t[0]=9 # hence tuples are not mutable"
   ]
  },
  {
   "cell_type": "markdown",
   "id": "b75e2283",
   "metadata": {},
   "source": [
    "# ques-2"
   ]
  },
  {
   "cell_type": "code",
   "execution_count": null,
   "id": "e90e673c",
   "metadata": {},
   "outputs": [],
   "source": [
    "\n",
    "#two tuple methods are -1)index 2)count\n",
    "t1=(1,2,3,\"a\",\"b\",\"c\",\"a\")\n",
    "t1.count(\"a\") # here count operation count the frequency of input element."
   ]
  },
  {
   "cell_type": "code",
   "execution_count": 12,
   "id": "cc37cbb1",
   "metadata": {},
   "outputs": [
    {
     "data": {
      "text/plain": [
       "4"
      ]
     },
     "execution_count": 12,
     "metadata": {},
     "output_type": "execute_result"
    }
   ],
   "source": [
    "t1.index(\"b\") #here index operation gives the index of the input value in the tuple."
   ]
  },
  {
   "cell_type": "code",
   "execution_count": null,
   "id": "32d68b28",
   "metadata": {},
   "outputs": [],
   "source": [
    "# tuples have only two in-built methods because they are immutable so the don't have any modification operation. "
   ]
  },
  {
   "cell_type": "markdown",
   "id": "e62424ab",
   "metadata": {},
   "source": [
    "# ques-3"
   ]
  },
  {
   "cell_type": "code",
   "execution_count": 15,
   "id": "2c7bd20d",
   "metadata": {},
   "outputs": [
    {
     "data": {
      "text/plain": [
       "{1, 2, 3, 4}"
      ]
     },
     "execution_count": 15,
     "metadata": {},
     "output_type": "execute_result"
    }
   ],
   "source": [
    "# sets in python do not allow duplicate items.\n",
    "List = [1, 1, 1, 2, 1, 3, 1, 4, 2, 1, 2, 2, 2, 3, 2, 4, 3, 1, 3, 2, 3, 3, 3, 4, 4, 1, 4, 2, 4, 3, 4, 4]\n",
    "set(List)"
   ]
  },
  {
   "cell_type": "markdown",
   "id": "fdf8a563",
   "metadata": {},
   "source": [
    "# ques-4"
   ]
  },
  {
   "cell_type": "code",
   "execution_count": 27,
   "id": "bfb8b2a4",
   "metadata": {},
   "outputs": [],
   "source": [
    "s1={1,2,3,4,5}\n",
    "s2={\"a\",\"b\",\"c\"}"
   ]
  },
  {
   "cell_type": "code",
   "execution_count": 32,
   "id": "acd84d01",
   "metadata": {},
   "outputs": [
    {
     "data": {
      "text/plain": [
       "{1, 2, 3, 4, 5, 'a', 'b', 'c'}"
      ]
     },
     "execution_count": 32,
     "metadata": {},
     "output_type": "execute_result"
    }
   ],
   "source": [
    "#union()- union method add all the elements of the set and create a new set.\n",
    "s3=s1.union(s2)\n",
    "s3"
   ]
  },
  {
   "cell_type": "code",
   "execution_count": 34,
   "id": "05e8f747",
   "metadata": {},
   "outputs": [
    {
     "data": {
      "text/plain": [
       "{1, 2, 3, 4, 5, 'a', 'b', 'c'}"
      ]
     },
     "execution_count": 34,
     "metadata": {},
     "output_type": "execute_result"
    }
   ],
   "source": [
    "#update()- update operation add the value of both the set put it into the set on which it is operated.\n",
    "s1.update(s2)\n",
    "s1"
   ]
  },
  {
   "cell_type": "markdown",
   "id": "4988bb8b",
   "metadata": {},
   "source": [
    "# ques-5"
   ]
  },
  {
   "cell_type": "code",
   "execution_count": 5,
   "id": "1ef1d0ca",
   "metadata": {},
   "outputs": [],
   "source": [
    "#dictionary is the unordered collection of data, and it is mutable and contaions key and values \n",
    "d1={\"name\":\"Aditya\",\"surname\":\"Sharma\",\"age\":\"21\"}"
   ]
  },
  {
   "cell_type": "code",
   "execution_count": 6,
   "id": "8ef59daf",
   "metadata": {},
   "outputs": [
    {
     "data": {
      "text/plain": [
       "{'name': 'Aditya', 'surname': 'Sharma', 'age': '21'}"
      ]
     },
     "execution_count": 6,
     "metadata": {},
     "output_type": "execute_result"
    }
   ],
   "source": [
    "d1"
   ]
  },
  {
   "cell_type": "code",
   "execution_count": 9,
   "id": "1ac18105",
   "metadata": {},
   "outputs": [],
   "source": [
    "#regular dictionaries are unordered as we cannot refer values with the help of indexes, we have to input keys to get the values."
   ]
  },
  {
   "cell_type": "markdown",
   "id": "7b9a264e",
   "metadata": {},
   "source": [
    "# ques-6"
   ]
  },
  {
   "cell_type": "code",
   "execution_count": 17,
   "id": "7a86326a",
   "metadata": {},
   "outputs": [],
   "source": [
    "# yes we can create nested dictionary but dictionary can only act as a value not key.\n",
    "d2={\"details\":{\"name\":\"Aditya\",\"surname\":\"Sharma\",\"age\":\"21\"}}"
   ]
  },
  {
   "cell_type": "code",
   "execution_count": 18,
   "id": "5352ac21",
   "metadata": {},
   "outputs": [
    {
     "data": {
      "text/plain": [
       "{'details': {'name': 'Aditya', 'surname': 'Sharma', 'age': '21'}}"
      ]
     },
     "execution_count": 18,
     "metadata": {},
     "output_type": "execute_result"
    }
   ],
   "source": [
    "d2"
   ]
  },
  {
   "cell_type": "markdown",
   "id": "3228e623",
   "metadata": {},
   "source": [
    "# ques-7"
   ]
  },
  {
   "cell_type": "code",
   "execution_count": 32,
   "id": "ea4ed47f",
   "metadata": {},
   "outputs": [],
   "source": [
    "d4={\"course_name\":\"data science masters\"}"
   ]
  },
  {
   "cell_type": "code",
   "execution_count": 33,
   "id": "ac3fb939",
   "metadata": {},
   "outputs": [
    {
     "data": {
      "text/plain": [
       "['Python', 'Machine Learning', 'deep learning']"
      ]
     },
     "execution_count": 33,
     "metadata": {},
     "output_type": "execute_result"
    }
   ],
   "source": [
    "d4.setdefault(\"topics\",[\"Python\",\"Machine Learning\",\"deep learning\"])"
   ]
  },
  {
   "cell_type": "code",
   "execution_count": 34,
   "id": "459de659",
   "metadata": {},
   "outputs": [
    {
     "data": {
      "text/plain": [
       "{'course_name': 'data science masters',\n",
       " 'topics': ['Python', 'Machine Learning', 'deep learning']}"
      ]
     },
     "execution_count": 34,
     "metadata": {},
     "output_type": "execute_result"
    }
   ],
   "source": [
    "d4"
   ]
  },
  {
   "cell_type": "markdown",
   "id": "ba2e4481",
   "metadata": {},
   "source": [
    "# ques-8"
   ]
  },
  {
   "cell_type": "code",
   "execution_count": 35,
   "id": "b41c0544",
   "metadata": {},
   "outputs": [],
   "source": [
    "#three view objects in dictionaries are --1)keys, 2)values, 3)items "
   ]
  },
  {
   "cell_type": "code",
   "execution_count": 38,
   "id": "d1337829",
   "metadata": {},
   "outputs": [],
   "source": [
    "dict1 = {'Sport': 'Cricket' , 'Teams': ['India', 'Australia', 'England', 'South Africa', 'Sri Lanka', 'New Zealand']}"
   ]
  },
  {
   "cell_type": "code",
   "execution_count": 40,
   "id": "7c4bb93f",
   "metadata": {},
   "outputs": [
    {
     "data": {
      "text/plain": [
       "dict_keys(['Sport', 'Teams'])"
      ]
     },
     "execution_count": 40,
     "metadata": {},
     "output_type": "execute_result"
    }
   ],
   "source": [
    "dict1.keys() # this will return all the keys of the dictionary"
   ]
  },
  {
   "cell_type": "code",
   "execution_count": 41,
   "id": "cc156d12",
   "metadata": {},
   "outputs": [
    {
     "data": {
      "text/plain": [
       "dict_values(['Cricket', ['India', 'Australia', 'England', 'South Africa', 'Sri Lanka', 'New Zealand']])"
      ]
     },
     "execution_count": 41,
     "metadata": {},
     "output_type": "execute_result"
    }
   ],
   "source": [
    "dict1.values() # it will give all the values of the keys of the given dictionary"
   ]
  },
  {
   "cell_type": "code",
   "execution_count": 43,
   "id": "d6cf9370",
   "metadata": {},
   "outputs": [
    {
     "data": {
      "text/plain": [
       "dict_items([('Sport', 'Cricket'), ('Teams', ['India', 'Australia', 'England', 'South Africa', 'Sri Lanka', 'New Zealand'])])"
      ]
     },
     "execution_count": 43,
     "metadata": {},
     "output_type": "execute_result"
    }
   ],
   "source": [
    "dict1.items()# tv will givw all the keys and value of the dictionary"
   ]
  },
  {
   "cell_type": "code",
   "execution_count": null,
   "id": "3e89f3f3",
   "metadata": {},
   "outputs": [],
   "source": []
  }
 ],
 "metadata": {
  "kernelspec": {
   "display_name": "Python 3 (ipykernel)",
   "language": "python",
   "name": "python3"
  },
  "language_info": {
   "codemirror_mode": {
    "name": "ipython",
    "version": 3
   },
   "file_extension": ".py",
   "mimetype": "text/x-python",
   "name": "python",
   "nbconvert_exporter": "python",
   "pygments_lexer": "ipython3",
   "version": "3.10.9"
  }
 },
 "nbformat": 4,
 "nbformat_minor": 5
}
